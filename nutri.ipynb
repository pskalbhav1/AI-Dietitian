{
 "cells": [
  {
   "cell_type": "code",
   "execution_count": 26,
   "metadata": {},
   "outputs": [],
   "source": [
    "import csv\n",
    "import pandas as pd\n",
    "import tensorflow as tf\n",
    "import numpy as np\n",
    "a=pd.read_csv('/home/mini/Documents/emoji.csv',index_col='name')"
   ]
  },
  {
   "cell_type": "code",
   "execution_count": 27,
   "metadata": {},
   "outputs": [
    {
     "name": "stdout",
     "output_type": "stream",
     "text": [
      "grapes\n",
      "        Calories (kcal)  Carbohydrates (g)  Total Sugar (g)  Protein (g)  \\\n",
      "name                                                                       \n",
      "grapes             0.69              0.181           0.1548       0.0072   \n",
      "\n",
      "        Total Fat (g)  Total Fiber (g)  Cholesterol (mg)  Vitamin B6 (mg)  \\\n",
      "name                                                                        \n",
      "grapes         0.0016            0.009               0.0          0.00086   \n",
      "\n",
      "        Vitamin A (IU)  Vitamin B12 (ug)  Vitamin C (mg)  Vitamin D (IU)  \\\n",
      "name                                                                       \n",
      "grapes            0.66               0.0           0.032             0.0   \n",
      "\n",
      "        Vitamin E (IU)  Vitamin K (ug)  Calcium (g)  Iron (mg)  \n",
      "name                                                            \n",
      "grapes          0.0019           0.146          0.1     0.0036  \n"
     ]
    }
   ],
   "source": [
    "test_samples=input()\n",
    "rows=a.loc[[test_samples]]\n",
    "print(rows)\n",
    "\n"
   ]
  },
  {
   "cell_type": "code",
   "execution_count": null,
   "metadata": {},
   "outputs": [],
   "source": []
  },
  {
   "cell_type": "code",
   "execution_count": null,
   "metadata": {},
   "outputs": [],
   "source": [
    "#from tensorflow.python.keras.preprocessing.text import Tokenizer\n",
    "#from tensorflow.python.keras.preprocessing.sequence import pad_sequences\n",
    "#tokenizer_obj=Tokenizer()\n",
    "#total_reviews = x_train \n",
    "#tokenizer_obj.fit_on_texts(total_reviews)\n",
    "#max_length = max([len(s.split()) for s in total_reviews])\n",
    "#vocab_size = len(tokenizer_obj.word_index) + 1\n",
    "#x_train_tokens = tokenizer_obj.texts_to_sequences(x_train)\n",
    "#x_test_tokens = tokenizer_obj.texts_to_sequences(x_test)\n",
    "#x_train_pad = pad_sequences(x_train_tokens, maxlen=max_length, padding='post')\n",
    "#x_test_pad = pad_sequences(x_test_tokens, maxlen=max_length, padding='post')\n",
    "\n",
    "\n"
   ]
  },
  {
   "cell_type": "code",
   "execution_count": null,
   "metadata": {},
   "outputs": [],
   "source": [
    "#from keras.models import Sequential\n",
    "#from keras.layers import Dense, Embedding, LSTM, Flatten,GRU,Conv1D,Bidirectional,Dropout\n",
    "#from keras.layers.embeddings import Embedding\n",
    "#model = Sequential()\n",
    "#model.add(Embedding(vocab_size, 32, input_length=max_length))\n",
    "#model.add(Conv1D(filters=32,kernel_size=3,padding='same',activation='relu'))\n",
    "#model.add(LSTM(32, dropout=0.2, recurrent_dropout=0.2))\n",
    "#model.add(Flatten())\n",
    "#model.add(Dense(250,activation='relu'))\n",
    "#model.add(Dropout(0.05))\n",
    "#model.add(Dense(16,activation='sigmoid'))\n",
    "#model.compile(loss='binary_crossentropy', optimizer='adam', metrics=['accuracy'])\n",
    "#model.fit(x_train_pad,y_train,batch_size=128,epochs=100,validation_split=0.1)\n"
   ]
  },
  {
   "cell_type": "code",
   "execution_count": null,
   "metadata": {},
   "outputs": [],
   "source": []
  }
 ],
 "metadata": {
  "kernelspec": {
   "display_name": "Python 3",
   "language": "python",
   "name": "python3"
  },
  "language_info": {
   "codemirror_mode": {
    "name": "ipython",
    "version": 3
   },
   "file_extension": ".py",
   "mimetype": "text/x-python",
   "name": "python",
   "nbconvert_exporter": "python",
   "pygments_lexer": "ipython3",
   "version": "3.6.8"
  }
 },
 "nbformat": 4,
 "nbformat_minor": 2
}
